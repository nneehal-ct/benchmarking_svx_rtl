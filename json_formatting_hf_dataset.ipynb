{
 "cells": [
  {
   "cell_type": "markdown",
   "id": "7c1966b0-5d8d-43a5-a645-8c73c16dcf20",
   "metadata": {},
   "source": [
    "### Install necessary libraries"
   ]
  },
  {
   "cell_type": "code",
   "execution_count": 77,
   "id": "49559bf2-c264-4ad7-ad36-5b3558135101",
   "metadata": {},
   "outputs": [],
   "source": [
    "# !pip install pandas datasets huggingface_hub pyarrow"
   ]
  },
  {
   "cell_type": "markdown",
   "id": "fa97a2a6-9f7e-4b30-96dc-2e242c4d5aa9",
   "metadata": {},
   "source": [
    "__This section of the code imports a dataset from huggingface and makes changes to the dataframe.__"
   ]
  },
  {
   "cell_type": "code",
   "execution_count": 57,
   "id": "8073c49f-8ab1-44b4-918c-4689044d69dc",
   "metadata": {},
   "outputs": [],
   "source": [
    "# Import required libraries\n",
    "from datasets import load_dataset\n",
    "import pandas as pd\n",
    "import json\n",
    "import re\n",
    "from typing import Dict, Any, Union, Optional"
   ]
  },
  {
   "cell_type": "code",
   "execution_count": 58,
   "id": "bb851a75-b8f5-4a56-9ab0-1772a64f8d1c",
   "metadata": {},
   "outputs": [],
   "source": [
    "def load_and_prepare_dataset(\n",
    "    dataset_name: str,\n",
    "    json_column: str\n",
    ") -> pd.DataFrame:\n",
    "    \"\"\"\n",
    "    Load a dataset from HuggingFace and prepare it for JSON parsing.\n",
    "    \n",
    "    Args:\n",
    "        dataset_name (str): Name of the dataset on HuggingFace (e.g., 'dataset_owner/dataset_name')\n",
    "        json_column (str): Name of the column containing JSON strings\n",
    "    \n",
    "    Returns:\n",
    "        pd.DataFrame: DataFrame with the original and parsed JSON data\n",
    "    \"\"\"\n",
    "    # Load dataset from HuggingFace\n",
    "    dataset = load_dataset(dataset_name)\n",
    "    \n",
    "    # Convert to pandas DataFrame (assuming we want the 'train' split)\n",
    "    df = pd.DataFrame(dataset['train'])\n",
    "    \n",
    "    return df"
   ]
  },
  {
   "cell_type": "code",
   "execution_count": 68,
   "id": "2eb89f46-d836-4597-8bf6-c15cc0999ac3",
   "metadata": {},
   "outputs": [],
   "source": [
    "def extract_system_and_prompt(text: str) -> Dict[str, str]:\n",
    "    \"\"\"\n",
    "    Extract system message and prompt from text with XML-style tags.\n",
    "    \n",
    "    Args:\n",
    "        text: Input text containing system message in <<SYS>> tags\n",
    "        \n",
    "    Returns:\n",
    "        Dictionary with 'system' and 'prompt' keys containing extracted text\n",
    "    \"\"\"\n",
    "    # Remove <s> tag if present\n",
    "    text = text.replace('<s>', '').strip()\n",
    "    \n",
    "    system_pattern = r'<<SYS>>(.*?)<</SYS>>'\n",
    "    system_match = re.search(system_pattern, text, re.DOTALL)\n",
    "    \n",
    "    system = system_match.group(1).strip() if system_match else \"\"\n",
    "    prompt = re.sub(r'<<SYS>>.*?<</SYS>>', '', text, flags=re.DOTALL).strip()\n",
    "    prompt = prompt.replace('[INST]', '').replace('[/INST]', '').strip()\n",
    "    \n",
    "    return {\n",
    "        \"system\": system,\n",
    "        \"prompt\": prompt\n",
    "    }"
   ]
  },
  {
   "cell_type": "code",
   "execution_count": 69,
   "id": "c661c2d3-f730-4851-ac7b-30dba534467a",
   "metadata": {},
   "outputs": [],
   "source": [
    "def process_column(\n",
    "    df: pd.DataFrame,\n",
    "    source_column: str,\n",
    "    target_column: str = 'parsed_data'\n",
    ") -> pd.DataFrame:\n",
    "    \"\"\"\n",
    "    Process JSON column and restructure data with system/prompt separation.\n",
    "    \n",
    "    Args:\n",
    "        df: Input DataFrame\n",
    "        source_column: Name of column containing source JSON data\n",
    "        target_column: Name of column to store processed JSON data\n",
    "        \n",
    "    Returns:\n",
    "        DataFrame with added column containing processed JSON\n",
    "    \"\"\"\n",
    "    def parse_and_restructure(row_data: Dict) -> str:\n",
    "        \"\"\"Parse dictionary data and restructure into system/prompt format.\"\"\"\n",
    "        try:\n",
    "            result = {}\n",
    "            for key in ['block_summary', 'detailed_global_summary', 'high_level_global_summary']:\n",
    "                if key in row_data:\n",
    "                    result[key] = extract_system_and_prompt(row_data[key])\n",
    "            return json.dumps(result, indent=2)\n",
    "        except (json.JSONDecodeError, AttributeError, TypeError):\n",
    "            return None\n",
    "\n",
    "    df[target_column] = df[source_column].apply(parse_and_restructure)\n",
    "    return df"
   ]
  },
  {
   "cell_type": "code",
   "execution_count": 70,
   "id": "a8258574-a362-48fa-a42d-4dd50db1dec0",
   "metadata": {},
   "outputs": [],
   "source": [
    "# Configuration\n",
    "DATASET_NAME = \"GaTech-EIC/MG-Verilog\"\n",
    "STR_COLUMN = \"description\"\n",
    "PARSED_COLUMN = \"parsed_description\""
   ]
  },
  {
   "cell_type": "code",
   "execution_count": 71,
   "id": "778a8116-9bbe-41f8-824a-822ce110ad68",
   "metadata": {},
   "outputs": [],
   "source": [
    "# Load and process the dataset\n",
    "df = load_and_prepare_dataset(DATASET_NAME, STR_COLUMN)"
   ]
  },
  {
   "cell_type": "code",
   "execution_count": 72,
   "id": "ebe87343-46ae-4264-8f9b-1627c2a0df53",
   "metadata": {},
   "outputs": [],
   "source": [
    "# Parse JSON column\n",
    "df = process_column(df, STR_COLUMN, PARSED_COLUMN)"
   ]
  },
  {
   "cell_type": "markdown",
   "id": "af730856-fe93-4505-8c2e-7442886c6eae",
   "metadata": {},
   "source": [
    "Check outputs."
   ]
  },
  {
   "cell_type": "code",
   "execution_count": 75,
   "id": "72aca9ca-d51a-460a-9cf1-04ca9f826646",
   "metadata": {},
   "outputs": [
    {
     "name": "stdout",
     "output_type": "stream",
     "text": [
      "{\n",
      "  \"block_summary\": {\n",
      "    \"system\": \"You only complete chats with syntax correct Verilog code. End the Verilog module code completion with 'endmodule'. Do not include module, input and output definitions.\",\n",
      "    \"prompt\": \"Implement the Verilog module based on the following block level summaries. Assume that signals are positive clock/clk edge triggered unless otherwise stated.\\nHere are block level summaries:\\n\\nblock_0:   This is a Verilog module that implements a data mover for a DMA (Direct Memory Access) controller. It has several inputs and outputs, and it uses a state machine to manage the data transfer between the source and destination.\\n\\nThe module has several parameters that define the width of various signals, such as ID_WIDTH, S_AXIS_DATA_WIDTH, LENGTH_WIDTH, and BEATS_PER_BURST_WIDTH. These parameters are used to configure the module for a specific application.\\n\\nThe module has several inputs, including:\\n\\n* s_axis_aclk: The clock signal for the source axis.\\n* s_axis_aresetn: The reset signal for the source axis.\\n* enable: The enable signal for the data mover.\\n* request_id: The request ID signal, which is used to identify the request that is being processed.\\n* eot: The end-of-transfer signal, which indicates the end of a transfer.\\n* rewind_req_valid: The valid signal for the rewind request.\\n* rewind_req_ready: The ready signal for the rewind request.\\n* rewind_req_data: The data signal for the rewind request.\\n* bl_valid: The valid signal for the burst length.\\n* bl_ready: The ready signal for the burst length.\\n* measured_last_burst_length: The measured last burst length signal.\\n* block_descr_to_dst: The block description signal for the destination.\\n* source_id: The source ID signal.\\n* source_eot: The end-of-transfer signal for the source.\\n* req_valid: The valid signal for the request.\\n* req_ready: The ready signal for the request.\\n* req_last_burst_length: The last burst length signal for the request.\\n* req_sync_transfer_start: The synchronous transfer start signal for the request.\\n* req_xlast: The last signal for the request.\\n\\nThe module also has several outputs, including:\\n\\n* enabled: The enabled signal for the data mover.\\n* response_id: The response ID signal, which is used to identify the response that is being processed.\\n* rewind_req_data: The data signal for the rewind request.\\n\\n\\n Module header:\\n\\nmodule dmac_src_axi_stream #(parameter ID_WIDTH = 3,parameter S_AXIS_DATA_WIDTH = 64,parameter LENGTH_WIDTH = 24,parameter BEATS_PER_BURST_WIDTH = 4)(input s_axis_aclk,input s_axis_aresetn,input enable,output enabled,input [ID_WIDTH-1:0] request_id,output [ID_WIDTH-1:0] response_id,input eot,output rewind_req_valid,input rewind_req_ready,output [ID_WIDTH+3-1:0] rewind_req_data,output bl_valid,input bl_ready,output [BEATS_PER_BURST_WIDTH-1:0] measured_last_burst_length,output block_descr_to_dst,output [ID_WIDTH-1:0] source_id,output source_eot,output s_axis_ready,input s_axis_valid,input [S_AXIS_DATA_WIDTH-1:0] s_axis_data,input [0:0] s_axis_user,input s_axis_last,output s_axis_xfer_req,output fifo_valid,output [S_AXIS_DATA_WIDTH-1:0] fifo_data,output fifo_last,output fifo_partial_burst,input req_valid,output req_ready,input [BEATS_PER_BURST_WIDTH-1:0] req_last_burst_length,input req_sync_transfer_start,input req_xlast);\"\n",
      "  },\n",
      "  \"detailed_global_summary\": {\n",
      "    \"system\": \"You only complete chats with syntax correct Verilog code. End the Verilog module code completion with 'endmodule'. Do not include module, input and output definitions.\",\n",
      "    \"prompt\": \"Implement the Verilog module based on the following description. Assume that signals are positive clock/clk edge triggered unless otherwise stated.\\n\\n  This is a Verilog module that implements a data mover for a DMA (Direct Memory Access) controller. It has several inputs and outputs, and it uses a state machine to manage the data transfer between the source and destination.\\n\\nThe module has several parameters that define the width of various signals, such as ID_WIDTH, S_AXIS_DATA_WIDTH, LENGTH_WIDTH, and BEATS_PER_BURST_WIDTH. These parameters are used to configure the module for a specific application.\\n\\nThe module has several inputs, including:\\n\\n* s_axis_aclk: The clock signal for the source axis.\\n* s_axis_aresetn: The reset signal for the source axis.\\n* enable: The enable signal for the data mover.\\n* request_id: The request ID signal, which is used to identify the request that is being processed.\\n* eot: The end-of-transfer signal, which indicates the end of a transfer.\\n* rewind_req_valid: The valid signal for the rewind request.\\n* rewind_req_ready: The ready signal for the rewind request.\\n* rewind_req_data: The data signal for the rewind request.\\n* bl_valid: The valid signal for the burst length.\\n* bl_ready: The ready signal for the burst length.\\n* measured_last_burst_length: The measured last burst length signal.\\n* block_descr_to_dst: The block description signal for the destination.\\n* source_id: The source ID signal.\\n* source_eot: The end-of-transfer signal for the source.\\n* req_valid: The valid signal for the request.\\n* req_ready: The ready signal for the request.\\n* req_last_burst_length: The last burst length signal for the request.\\n* req_sync_transfer_start: The synchronous transfer start signal for the request.\\n* req_xlast: The last signal for the request.\\n\\nThe module also has several outputs, including:\\n\\n* enabled: The enabled signal for the data mover.\\n* response_id: The response ID signal, which is used to identify the response that is being processed.\\n* rewind_req_data: The data signal for the rewind request.\\n\\n Module header:\\n\\nmodule dmac_src_axi_stream #(parameter ID_WIDTH = 3,parameter S_AXIS_DATA_WIDTH = 64,parameter LENGTH_WIDTH = 24,parameter BEATS_PER_BURST_WIDTH = 4)(input s_axis_aclk,input s_axis_aresetn,input enable,output enabled,input [ID_WIDTH-1:0] request_id,output [ID_WIDTH-1:0] response_id,input eot,output rewind_req_valid,input rewind_req_ready,output [ID_WIDTH+3-1:0] rewind_req_data,output bl_valid,input bl_ready,output [BEATS_PER_BURST_WIDTH-1:0] measured_last_burst_length,output block_descr_to_dst,output [ID_WIDTH-1:0] source_id,output source_eot,output s_axis_ready,input s_axis_valid,input [S_AXIS_DATA_WIDTH-1:0] s_axis_data,input [0:0] s_axis_user,input s_axis_last,output s_axis_xfer_req,output fifo_valid,output [S_AXIS_DATA_WIDTH-1:0] fifo_data,output fifo_last,output fifo_partial_burst,input req_valid,output req_ready,input [BEATS_PER_BURST_WIDTH-1:0] req_last_burst_length,input req_sync_transfer_start,input req_xlast);\"\n",
      "  },\n",
      "  \"high_level_global_summary\": {\n",
      "    \"system\": \"You only complete chats with syntax correct Verilog code. End the Verilog module code completion with 'endmodule'. Do not include module, input and output definitions.\",\n",
      "    \"prompt\": \"Implement the Verilog module based on the following description. Assume that signals are positive clock/clk edge triggered unless otherwise stated.\\n\\nThis Verilog module instantiates a data mover component and connects its ports to the corresponding input and output signals. The data mover facilitates transfer of data between two AXI4-Stream interfaces. It includes a variety of input and output signals for data transfer control, and the module assigns the \\\"enabled\\\" output based on the \\\"enable\\\" input. The data mover instance is parameterized by ID_WIDTH, DATA_WIDTH, BEATS_PER_BURST_WIDTH, and ALLOW_ABORT.\\n\\n Module header:\\n\\nmodule dmac_src_axi_stream #(parameter ID_WIDTH = 3,parameter S_AXIS_DATA_WIDTH = 64,parameter LENGTH_WIDTH = 24,parameter BEATS_PER_BURST_WIDTH = 4)(input s_axis_aclk,input s_axis_aresetn,input enable,output enabled,input [ID_WIDTH-1:0] request_id,output [ID_WIDTH-1:0] response_id,input eot,output rewind_req_valid,input rewind_req_ready,output [ID_WIDTH+3-1:0] rewind_req_data,output bl_valid,input bl_ready,output [BEATS_PER_BURST_WIDTH-1:0] measured_last_burst_length,output block_descr_to_dst,output [ID_WIDTH-1:0] source_id,output source_eot,output s_axis_ready,input s_axis_valid,input [S_AXIS_DATA_WIDTH-1:0] s_axis_data,input [0:0] s_axis_user,input s_axis_last,output s_axis_xfer_req,output fifo_valid,output [S_AXIS_DATA_WIDTH-1:0] fifo_data,output fifo_last,output fifo_partial_burst,input req_valid,output req_ready,input [BEATS_PER_BURST_WIDTH-1:0] req_last_burst_length,input req_sync_transfer_start,input req_xlast);\"\n",
      "  }\n",
      "}\n"
     ]
    }
   ],
   "source": [
    "print(df['parsed_description'].iloc[0])"
   ]
  },
  {
   "cell_type": "code",
   "execution_count": 76,
   "id": "312a1c3a-d7d4-4cc5-b187-d8fabbef2376",
   "metadata": {},
   "outputs": [
    {
     "name": "stdout",
     "output_type": "stream",
     "text": [
      "{'block_summary': \"\\n    <s>[INST] <<SYS>>\\n    You only complete chats with syntax correct Verilog code. End the Verilog module code completion with 'endmodule'. Do not include module, input and output definitions.\\n    <</SYS>>\\n\\n    Implement the Verilog module based on the following block level summaries. Assume that signals are positive clock/clk edge triggered unless otherwise stated.\\nHere are block level summaries:\\n\\nblock_0:   This is a Verilog module that implements a data mover for a DMA (Direct Memory Access) controller. It has several inputs and outputs, and it uses a state machine to manage the data transfer between the source and destination.\\n\\nThe module has several parameters that define the width of various signals, such as ID_WIDTH, S_AXIS_DATA_WIDTH, LENGTH_WIDTH, and BEATS_PER_BURST_WIDTH. These parameters are used to configure the module for a specific application.\\n\\nThe module has several inputs, including:\\n\\n* s_axis_aclk: The clock signal for the source axis.\\n* s_axis_aresetn: The reset signal for the source axis.\\n* enable: The enable signal for the data mover.\\n* request_id: The request ID signal, which is used to identify the request that is being processed.\\n* eot: The end-of-transfer signal, which indicates the end of a transfer.\\n* rewind_req_valid: The valid signal for the rewind request.\\n* rewind_req_ready: The ready signal for the rewind request.\\n* rewind_req_data: The data signal for the rewind request.\\n* bl_valid: The valid signal for the burst length.\\n* bl_ready: The ready signal for the burst length.\\n* measured_last_burst_length: The measured last burst length signal.\\n* block_descr_to_dst: The block description signal for the destination.\\n* source_id: The source ID signal.\\n* source_eot: The end-of-transfer signal for the source.\\n* req_valid: The valid signal for the request.\\n* req_ready: The ready signal for the request.\\n* req_last_burst_length: The last burst length signal for the request.\\n* req_sync_transfer_start: The synchronous transfer start signal for the request.\\n* req_xlast: The last signal for the request.\\n\\nThe module also has several outputs, including:\\n\\n* enabled: The enabled signal for the data mover.\\n* response_id: The response ID signal, which is used to identify the response that is being processed.\\n* rewind_req_data: The data signal for the rewind request.\\n\\n\\n Module header:\\n\\nmodule dmac_src_axi_stream #(parameter ID_WIDTH = 3,parameter S_AXIS_DATA_WIDTH = 64,parameter LENGTH_WIDTH = 24,parameter BEATS_PER_BURST_WIDTH = 4)(input s_axis_aclk,input s_axis_aresetn,input enable,output enabled,input [ID_WIDTH-1:0] request_id,output [ID_WIDTH-1:0] response_id,input eot,output rewind_req_valid,input rewind_req_ready,output [ID_WIDTH+3-1:0] rewind_req_data,output bl_valid,input bl_ready,output [BEATS_PER_BURST_WIDTH-1:0] measured_last_burst_length,output block_descr_to_dst,output [ID_WIDTH-1:0] source_id,output source_eot,output s_axis_ready,input s_axis_valid,input [S_AXIS_DATA_WIDTH-1:0] s_axis_data,input [0:0] s_axis_user,input s_axis_last,output s_axis_xfer_req,output fifo_valid,output [S_AXIS_DATA_WIDTH-1:0] fifo_data,output fifo_last,output fifo_partial_burst,input req_valid,output req_ready,input [BEATS_PER_BURST_WIDTH-1:0] req_last_burst_length,input req_sync_transfer_start,input req_xlast);\\n [/INST]\\n\", 'detailed_global_summary': \"\\n    <s>[INST] <<SYS>>\\n    You only complete chats with syntax correct Verilog code. End the Verilog module code completion with 'endmodule'. Do not include module, input and output definitions.\\n    <</SYS>>\\n\\n    Implement the Verilog module based on the following description. Assume that signals are positive clock/clk edge triggered unless otherwise stated.\\n\\n  This is a Verilog module that implements a data mover for a DMA (Direct Memory Access) controller. It has several inputs and outputs, and it uses a state machine to manage the data transfer between the source and destination.\\n\\nThe module has several parameters that define the width of various signals, such as ID_WIDTH, S_AXIS_DATA_WIDTH, LENGTH_WIDTH, and BEATS_PER_BURST_WIDTH. These parameters are used to configure the module for a specific application.\\n\\nThe module has several inputs, including:\\n\\n* s_axis_aclk: The clock signal for the source axis.\\n* s_axis_aresetn: The reset signal for the source axis.\\n* enable: The enable signal for the data mover.\\n* request_id: The request ID signal, which is used to identify the request that is being processed.\\n* eot: The end-of-transfer signal, which indicates the end of a transfer.\\n* rewind_req_valid: The valid signal for the rewind request.\\n* rewind_req_ready: The ready signal for the rewind request.\\n* rewind_req_data: The data signal for the rewind request.\\n* bl_valid: The valid signal for the burst length.\\n* bl_ready: The ready signal for the burst length.\\n* measured_last_burst_length: The measured last burst length signal.\\n* block_descr_to_dst: The block description signal for the destination.\\n* source_id: The source ID signal.\\n* source_eot: The end-of-transfer signal for the source.\\n* req_valid: The valid signal for the request.\\n* req_ready: The ready signal for the request.\\n* req_last_burst_length: The last burst length signal for the request.\\n* req_sync_transfer_start: The synchronous transfer start signal for the request.\\n* req_xlast: The last signal for the request.\\n\\nThe module also has several outputs, including:\\n\\n* enabled: The enabled signal for the data mover.\\n* response_id: The response ID signal, which is used to identify the response that is being processed.\\n* rewind_req_data: The data signal for the rewind request.\\n\\n Module header:\\n\\nmodule dmac_src_axi_stream #(parameter ID_WIDTH = 3,parameter S_AXIS_DATA_WIDTH = 64,parameter LENGTH_WIDTH = 24,parameter BEATS_PER_BURST_WIDTH = 4)(input s_axis_aclk,input s_axis_aresetn,input enable,output enabled,input [ID_WIDTH-1:0] request_id,output [ID_WIDTH-1:0] response_id,input eot,output rewind_req_valid,input rewind_req_ready,output [ID_WIDTH+3-1:0] rewind_req_data,output bl_valid,input bl_ready,output [BEATS_PER_BURST_WIDTH-1:0] measured_last_burst_length,output block_descr_to_dst,output [ID_WIDTH-1:0] source_id,output source_eot,output s_axis_ready,input s_axis_valid,input [S_AXIS_DATA_WIDTH-1:0] s_axis_data,input [0:0] s_axis_user,input s_axis_last,output s_axis_xfer_req,output fifo_valid,output [S_AXIS_DATA_WIDTH-1:0] fifo_data,output fifo_last,output fifo_partial_burst,input req_valid,output req_ready,input [BEATS_PER_BURST_WIDTH-1:0] req_last_burst_length,input req_sync_transfer_start,input req_xlast);\\n [/INST]\\n\", 'high_level_global_summary': '\\n    <s>[INST] <<SYS>>\\n    You only complete chats with syntax correct Verilog code. End the Verilog module code completion with \\'endmodule\\'. Do not include module, input and output definitions.\\n    <</SYS>>\\n\\n    Implement the Verilog module based on the following description. Assume that signals are positive clock/clk edge triggered unless otherwise stated.\\n\\nThis Verilog module instantiates a data mover component and connects its ports to the corresponding input and output signals. The data mover facilitates transfer of data between two AXI4-Stream interfaces. It includes a variety of input and output signals for data transfer control, and the module assigns the \"enabled\" output based on the \"enable\" input. The data mover instance is parameterized by ID_WIDTH, DATA_WIDTH, BEATS_PER_BURST_WIDTH, and ALLOW_ABORT.\\n\\n Module header:\\n\\nmodule dmac_src_axi_stream #(parameter ID_WIDTH = 3,parameter S_AXIS_DATA_WIDTH = 64,parameter LENGTH_WIDTH = 24,parameter BEATS_PER_BURST_WIDTH = 4)(input s_axis_aclk,input s_axis_aresetn,input enable,output enabled,input [ID_WIDTH-1:0] request_id,output [ID_WIDTH-1:0] response_id,input eot,output rewind_req_valid,input rewind_req_ready,output [ID_WIDTH+3-1:0] rewind_req_data,output bl_valid,input bl_ready,output [BEATS_PER_BURST_WIDTH-1:0] measured_last_burst_length,output block_descr_to_dst,output [ID_WIDTH-1:0] source_id,output source_eot,output s_axis_ready,input s_axis_valid,input [S_AXIS_DATA_WIDTH-1:0] s_axis_data,input [0:0] s_axis_user,input s_axis_last,output s_axis_xfer_req,output fifo_valid,output [S_AXIS_DATA_WIDTH-1:0] fifo_data,output fifo_last,output fifo_partial_burst,input req_valid,output req_ready,input [BEATS_PER_BURST_WIDTH-1:0] req_last_burst_length,input req_sync_transfer_start,input req_xlast);\\n [/INST]\\n'}\n"
     ]
    }
   ],
   "source": [
    "print(df['description'].iloc[0])"
   ]
  },
  {
   "cell_type": "markdown",
   "id": "eaf0b91d-6021-48f3-9b64-29e8f0ad9f5f",
   "metadata": {},
   "source": [
    "__This section of the code converts to parquet and uploads it to Huggingface.__"
   ]
  },
  {
   "cell_type": "code",
   "execution_count": 91,
   "id": "98e88ada-5406-4442-b6f8-22043edf5c53",
   "metadata": {},
   "outputs": [],
   "source": [
    "#Import necessary libraries\n",
    "from huggingface_hub import HfApi, login\n",
    "import pyarrow as pa\n",
    "import pyarrow.parquet as pq\n",
    "import os"
   ]
  },
  {
   "cell_type": "code",
   "execution_count": 85,
   "id": "e4f7d3d6-33b2-4084-915a-114b48cc29c4",
   "metadata": {},
   "outputs": [],
   "source": [
    "def upload_parquet_to_hf(\n",
    "    df,\n",
    "    repo_id: str,\n",
    "    token: str,\n",
    "    filename: str = \"data.parquet\"\n",
    ") -> None:\n",
    "    \"\"\"Upload parquet file to existing HuggingFace dataset.\"\"\"\n",
    "    login(token)\n",
    "    api = HfApi()\n",
    "    \n",
    "    # Save DataFrame as parquet\n",
    "    table = pa.Table.from_pandas(df)\n",
    "    pq.write_table(table, filename)\n",
    "    \n",
    "    # Upload to HuggingFace\n",
    "    api.upload_file(\n",
    "        path_or_fileobj=filename,\n",
    "        path_in_repo=filename,\n",
    "        repo_id=repo_id,\n",
    "        repo_type=\"dataset\"\n",
    "    )\n",
    "\n",
    "    # Clean up local file\n",
    "    os.remove(filename)"
   ]
  },
  {
   "cell_type": "code",
   "execution_count": 90,
   "id": "2fb7fe05-7ea3-4ba6-a78b-6da835c7175b",
   "metadata": {},
   "outputs": [],
   "source": [
    "#Configuration\n",
    "HF_TOKEN = \"your_write_token\"  # Get from HuggingFace\n",
    "REPO_ID = \"username/repository-name\""
   ]
  },
  {
   "cell_type": "code",
   "execution_count": 89,
   "id": "2b1aefae-4119-4777-9d70-a691fe8ec99f",
   "metadata": {
    "scrolled": true
   },
   "outputs": [
    {
     "data": {
      "application/vnd.jupyter.widget-view+json": {
       "model_id": "a72d427547d943799804f4a702785f38",
       "version_major": 2,
       "version_minor": 0
      },
      "text/plain": [
       "data.parquet:   0%|          | 0.00/34.7M [00:00<?, ?B/s]"
      ]
     },
     "metadata": {},
     "output_type": "display_data"
    }
   ],
   "source": [
    "#Upload to huggingface\n",
    "upload_parquet_to_hf(df=df, repo_id=REPO_ID, token=HF_TOKEN)"
   ]
  },
  {
   "cell_type": "code",
   "execution_count": null,
   "id": "1c0009ba-68cf-46dc-bfbe-3792944197eb",
   "metadata": {},
   "outputs": [],
   "source": []
  }
 ],
 "metadata": {
  "kernelspec": {
   "display_name": "Python 3 (ipykernel)",
   "language": "python",
   "name": "python3"
  },
  "language_info": {
   "codemirror_mode": {
    "name": "ipython",
    "version": 3
   },
   "file_extension": ".py",
   "mimetype": "text/x-python",
   "name": "python",
   "nbconvert_exporter": "python",
   "pygments_lexer": "ipython3",
   "version": "3.12.8"
  }
 },
 "nbformat": 4,
 "nbformat_minor": 5
}
