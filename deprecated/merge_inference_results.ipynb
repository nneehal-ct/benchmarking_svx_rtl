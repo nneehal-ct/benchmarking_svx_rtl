{
 "cells": [
  {
   "cell_type": "code",
   "execution_count": 5,
   "metadata": {},
   "outputs": [],
   "source": [
    "import pandas as pd \n",
    "\n",
    "data1 = pd.read_csv('results_88.csv')\n",
    "data2 = pd.read_csv('results_84_166.csv')\n",
    "data3 = pd.read_csv('results.csv')"
   ]
  },
  {
   "cell_type": "code",
   "execution_count": 13,
   "metadata": {},
   "outputs": [],
   "source": [
    "data1.insert(0, 'index', range(0, len(data1)))"
   ]
  },
  {
   "cell_type": "code",
   "execution_count": 22,
   "metadata": {},
   "outputs": [
    {
     "name": "stdout",
     "output_type": "stream",
     "text": [
      "(88, 6) (82, 6) (335, 6)\n"
     ]
    }
   ],
   "source": [
    "print(data1.shape, data2.shape, data3.shape)"
   ]
  },
  {
   "cell_type": "markdown",
   "metadata": {},
   "source": [
    "Take from files\n",
    "- data1 [0:83]\n",
    "    - add index column to dataframe in the first column\n",
    "- data2 [84:164]\n",
    "- data3 full "
   ]
  },
  {
   "cell_type": "code",
   "execution_count": 27,
   "metadata": {},
   "outputs": [
    {
     "data": {
      "text/html": [
       "<div>\n",
       "<style scoped>\n",
       "    .dataframe tbody tr th:only-of-type {\n",
       "        vertical-align: middle;\n",
       "    }\n",
       "\n",
       "    .dataframe tbody tr th {\n",
       "        vertical-align: top;\n",
       "    }\n",
       "\n",
       "    .dataframe thead th {\n",
       "        text-align: right;\n",
       "    }\n",
       "</style>\n",
       "<table border=\"1\" class=\"dataframe\">\n",
       "  <thead>\n",
       "    <tr style=\"text-align: right;\">\n",
       "      <th></th>\n",
       "      <th>index</th>\n",
       "      <th>ground_truth</th>\n",
       "      <th>aisuite_Claude-3.5-Sonnet</th>\n",
       "      <th>together_Llama-3.3-70B-It</th>\n",
       "      <th>together_Mistral-Small-3-24B-It</th>\n",
       "      <th>together_Gemma-2-9B-It</th>\n",
       "    </tr>\n",
       "  </thead>\n",
       "  <tbody>\n",
       "    <tr>\n",
       "      <th>0</th>\n",
       "      <td>0</td>\n",
       "      <td>\\n reg [6:0] buffer [1:0]; \\n reg [1:0] shift...</td>\n",
       "      <td>reg [6:0] buffer [1:0];\\nreg [1:0] shiftdata =...</td>\n",
       "      <td>```verilog\\nreg [6:0] buffer [1:0]; \\nreg [1:0...</td>\n",
       "      <td>reg [6:0] buffer [1:0];  reg [1:0] shiftdata ...</td>\n",
       "      <td>reg [6:0] buffer [1:0]; \\n  reg [1:0] shiftd...</td>\n",
       "    </tr>\n",
       "    <tr>\n",
       "      <th>1</th>\n",
       "      <td>1</td>\n",
       "      <td>\\n wire rst = ~rst_n; \\n assign spi_miso = 1'...</td>\n",
       "      <td>wire rst = ~rst_n;\\nassign spi_miso = 1'bz;\\na...</td>\n",
       "      <td>```verilog\\nwire rst = ~rst_n; \\nassign spi_mi...</td>\n",
       "      <td>wire rst = ~rst_n;\\n assign spi_miso = 1'bz;\\...</td>\n",
       "      <td>wire rst = ~rst_n; \\n assign spi_miso = 1'bz; ...</td>\n",
       "    </tr>\n",
       "    <tr>\n",
       "      <th>2</th>\n",
       "      <td>2</td>\n",
       "      <td>\\n  input [15:0] data; \\n  output [3:0] q; \\n...</td>\n",
       "      <td>wire [2:0] wire_altpriority_encoder10_q;\\nwire...</td>\n",
       "      <td>reg [15:0] data;\\nreg [3:0] q;\\nwire [2:0] wir...</td>\n",
       "      <td>input [15:0] data;\\n output [3:0] q;\\n wire [...</td>\n",
       "      <td>reg [15:0] data;\\nreg [3:0] q;\\nreg [2:0] wire...</td>\n",
       "    </tr>\n",
       "    <tr>\n",
       "      <th>3</th>\n",
       "      <td>3</td>\n",
       "      <td>\\n reg [7:0] to_arm_shiftreg; \\n always @(pos...</td>\n",
       "      <td>reg [7:0] adc_d_shift;\\nalways @(posedge pck0 ...</td>\n",
       "      <td>reg [7:0] adc_shift_reg;\\nalways @(posedge pck...</td>\n",
       "      <td>reg [7:0] adc_shift_reg;\\n reg adc_shift_en;\\...</td>\n",
       "      <td>reg [7:0] adc_shift;\\nalways @(posedge pck0 or...</td>\n",
       "    </tr>\n",
       "    <tr>\n",
       "      <th>4</th>\n",
       "      <td>4</td>\n",
       "      <td>\\n input A; \\n input B; \\n input GIN; \\n inpu...</td>\n",
       "      <td>assign SUM = A ^ B ^ GIN;\\n\\nendmodule</td>\n",
       "      <td>assign SUM = A ^ B ^ GIN;\\nalways @(A or B or ...</td>\n",
       "      <td>assign SUM = A ^ B ^ GIN;</td>\n",
       "      <td>wire SUM ;\\n SUM = ^A &amp; B &amp; GIN; \\nendmodule</td>\n",
       "    </tr>\n",
       "  </tbody>\n",
       "</table>\n",
       "</div>"
      ],
      "text/plain": [
       "   index                                       ground_truth  \\\n",
       "0      0   \\n reg [6:0] buffer [1:0]; \\n reg [1:0] shift...   \n",
       "1      1   \\n wire rst = ~rst_n; \\n assign spi_miso = 1'...   \n",
       "2      2   \\n  input [15:0] data; \\n  output [3:0] q; \\n...   \n",
       "3      3   \\n reg [7:0] to_arm_shiftreg; \\n always @(pos...   \n",
       "4      4   \\n input A; \\n input B; \\n input GIN; \\n inpu...   \n",
       "\n",
       "                           aisuite_Claude-3.5-Sonnet  \\\n",
       "0  reg [6:0] buffer [1:0];\\nreg [1:0] shiftdata =...   \n",
       "1  wire rst = ~rst_n;\\nassign spi_miso = 1'bz;\\na...   \n",
       "2  wire [2:0] wire_altpriority_encoder10_q;\\nwire...   \n",
       "3  reg [7:0] adc_d_shift;\\nalways @(posedge pck0 ...   \n",
       "4             assign SUM = A ^ B ^ GIN;\\n\\nendmodule   \n",
       "\n",
       "                           together_Llama-3.3-70B-It  \\\n",
       "0  ```verilog\\nreg [6:0] buffer [1:0]; \\nreg [1:0...   \n",
       "1  ```verilog\\nwire rst = ~rst_n; \\nassign spi_mi...   \n",
       "2  reg [15:0] data;\\nreg [3:0] q;\\nwire [2:0] wir...   \n",
       "3  reg [7:0] adc_shift_reg;\\nalways @(posedge pck...   \n",
       "4  assign SUM = A ^ B ^ GIN;\\nalways @(A or B or ...   \n",
       "\n",
       "                     together_Mistral-Small-3-24B-It  \\\n",
       "0   reg [6:0] buffer [1:0];  reg [1:0] shiftdata ...   \n",
       "1   wire rst = ~rst_n;\\n assign spi_miso = 1'bz;\\...   \n",
       "2   input [15:0] data;\\n output [3:0] q;\\n wire [...   \n",
       "3   reg [7:0] adc_shift_reg;\\n reg adc_shift_en;\\...   \n",
       "4                          assign SUM = A ^ B ^ GIN;   \n",
       "\n",
       "                              together_Gemma-2-9B-It  \n",
       "0    reg [6:0] buffer [1:0]; \\n  reg [1:0] shiftd...  \n",
       "1  wire rst = ~rst_n; \\n assign spi_miso = 1'bz; ...  \n",
       "2  reg [15:0] data;\\nreg [3:0] q;\\nreg [2:0] wire...  \n",
       "3  reg [7:0] adc_shift;\\nalways @(posedge pck0 or...  \n",
       "4       wire SUM ;\\n SUM = ^A & B & GIN; \\nendmodule  "
      ]
     },
     "execution_count": 27,
     "metadata": {},
     "output_type": "execute_result"
    }
   ],
   "source": [
    "# result = pd.concat([data1.iloc[0:84,:], pd.concat([data2.iloc[84:165,:], data3.iloc[165:,:]], ignore_index=True)], ignore_index=True)\n",
    "\n",
    "#concat these three dataframes\n",
    "result = pd.concat([data1, data2, data3], ignore_index=True)\n",
    "result.drop_duplicates(subset=['index'], keep='first', inplace=True)\n",
    "result.head()"
   ]
  },
  {
   "cell_type": "code",
   "execution_count": 34,
   "metadata": {},
   "outputs": [
    {
     "data": {
      "text/plain": [
       "(500, 6)"
      ]
     },
     "execution_count": 34,
     "metadata": {},
     "output_type": "execute_result"
    }
   ],
   "source": [
    "result.shape"
   ]
  },
  {
   "cell_type": "code",
   "execution_count": 35,
   "metadata": {},
   "outputs": [],
   "source": [
    "result.to_csv('final_results.csv', index=False)"
   ]
  },
  {
   "cell_type": "code",
   "execution_count": 36,
   "metadata": {},
   "outputs": [
    {
     "name": "stderr",
     "output_type": "stream",
     "text": [
      "c:\\Users\\NafisNeehal\\Desktop\\Projects\\Benchmarking\\benchmark\\Lib\\site-packages\\tqdm\\auto.py:21: TqdmWarning: IProgress not found. Please update jupyter and ipywidgets. See https://ipywidgets.readthedocs.io/en/stable/user_install.html\n",
      "  from .autonotebook import tqdm as notebook_tqdm\n",
      "Creating parquet from Arrow format: 100%|██████████| 1/1 [00:00<00:00, 54.52ba/s]\n",
      "Uploading the dataset shards: 100%|██████████| 1/1 [00:01<00:00,  1.77s/it]\n"
     ]
    }
   ],
   "source": [
    "import os \n",
    "from dotenv import load_dotenv\n",
    "load_dotenv()\n",
    "\n",
    "os.environ['HF_TOKEN'] = os.getenv('HF_CASPIA_API_KEY')\n",
    "\n",
    "#push to huggingface hub \n",
    "from data_processor import DataProcessor \n",
    "processor = DataProcessor()\n",
    "processor.push_to_huggingface_hub(df=result, dataset_id='caspia-technologies/benchmarking_rtl_svx_500_inferences')"
   ]
  }
 ],
 "metadata": {
  "kernelspec": {
   "display_name": "benchmark",
   "language": "python",
   "name": "python3"
  },
  "language_info": {
   "codemirror_mode": {
    "name": "ipython",
    "version": 3
   },
   "file_extension": ".py",
   "mimetype": "text/x-python",
   "name": "python",
   "nbconvert_exporter": "python",
   "pygments_lexer": "ipython3",
   "version": "3.12.8"
  }
 },
 "nbformat": 4,
 "nbformat_minor": 2
}
