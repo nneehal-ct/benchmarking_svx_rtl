{
 "cells": [
  {
   "cell_type": "code",
   "execution_count": 2,
   "metadata": {},
   "outputs": [
    {
     "name": "stdout",
     "output_type": "stream",
     "text": [
      "The sky appears blue primarily due to a phenomenon called Rayleigh scattering. This occurs when sunlight, which is made up of different colors that correspond to various wavelengths of light, passes through Earth's atmosphere and interacts with air molecules such as nitrogen and oxygen.\n",
      "\n",
      "Here’s how it works:\n",
      "\n",
      "1. **Sunlight Composition**: Sunlight consists of multiple colors, each with a specific wavelength. Visible light ranges from violet (shorter wavelengths) to red (longer wavelengths).\n",
      "\n",
      "2. **Scattering Process**: As sunlight enters the atmosphere, it collides with molecules and small particles. Rayleigh scattering is more effective at shorter wavelengths.\n",
      "\n",
      "3. **Wavelength Dependence**: Shorter wavelengths of light (blue and violet) are scattered much more than longer wavelengths (red, orange, yellow). Although violet light is scattered even more than blue, our eyes are less sensitive to violet, and some of it is absorbed by the upper atmosphere. Additionally, sunlight contains more blue light.\n",
      "\n",
      "4. **Perception**: As a result, when we look up at the sky away from direct sunlight, we see the scattered shorter wavelengths, predominantly blue, which gives the sky its characteristic color during the day.\n",
      "\n",
      "This scattering effect also explains why sunsets and sunrises often appear red or orange. During these times, the sun is low on the horizon, and its light must pass through a greater thickness of Earth's atmosphere. This longer path results in more scattering of shorter wavelengths, allowing the longer wavelengths (reds and oranges) to dominate our view.\n",
      "\n",
      "In summary, the sky looks blue due to the preferential scattering of shorter wavelength blue light by atmospheric molecules, making it the dominant color we perceive during daylight hours.\n"
     ]
    }
   ],
   "source": [
    "import ollama\n",
    "\n",
    "response = ollama.chat(model='phi4', messages=[\n",
    "    {\n",
    "        'role': 'user',\n",
    "        'content': 'Why is the sky blue?',\n",
    "    },\n",
    "])\n",
    "\n",
    "print(response['message']['content'])\n"
   ]
  },
  {
   "cell_type": "code",
   "execution_count": 4,
   "metadata": {},
   "outputs": [
    {
     "name": "stdout",
     "output_type": "stream",
     "text": [
      "Sure, here are some light-hearted jokes about Verilog:\n",
      "\n",
      "1. **Why did the Verilog designer go broke?**\n",
      "   - Because he used up all his logic gates!\n",
      "\n",
      "2. **What do you call a Verilog module that's always late?**\n",
      "   - A \"delayed\" module.\n",
      "\n",
      "3. **How does a Verilog engineer keep their coffee hot?**\n",
      "   - They use a `#1` delay to hold it in the register!\n",
      "\n",
      "4. **Why did the Verilog designer bring a ladder to work?**\n",
      "   - Because they heard there was a Latch problem!\n",
      "\n",
      "5. **What do you call a Verilog module that's always on vacation?**\n",
      "   - A \"reset\" module.\n",
      "\n",
      "6. **How does a Verilog engineer make their code more efficient?**\n",
      "   - By using `always_comb` to combine everything!\n",
      "\n",
      "7. **Why did the Verilog designer break up with their partner?**\n",
      "   - Because they couldn't handle the asynchronous signals!\n",
      "\n",
      "8. **What do you call a Verilog module that's always in trouble?**\n",
      "   - A \"glitch\" module.\n",
      "\n",
      "I hope these bring a smile to your face!"
     ]
    }
   ],
   "source": [
    "from openai import OpenAI\n",
    "\n",
    "client = OpenAI(\n",
    "    base_url='http://localhost:11434/v1/',\n",
    "    api_key='ollama'  # required but ignored\n",
    ")\n",
    "\n",
    "response = client.chat.completions.create(\n",
    "    model=\"phi4\",\n",
    "    messages=[\n",
    "        {\"role\": \"system\", \"content\": \"You are a helpful assistant.\"},\n",
    "        {\"role\": \"user\", \"content\": \"Tell Verilog Jokes\"}\n",
    "    ],\n",
    "    stream=True,\n",
    "    temperature=0.01,\n",
    ")\n",
    "\n",
    "for chunk in response:\n",
    "    if chunk.choices[0].delta.content is not None:\n",
    "        print(chunk.choices[0].delta.content, end='', flush=True)\n"
   ]
  }
 ],
 "metadata": {
  "kernelspec": {
   "display_name": "benchmark",
   "language": "python",
   "name": "python3"
  },
  "language_info": {
   "codemirror_mode": {
    "name": "ipython",
    "version": 3
   },
   "file_extension": ".py",
   "mimetype": "text/x-python",
   "name": "python",
   "nbconvert_exporter": "python",
   "pygments_lexer": "ipython3",
   "version": "3.12.8"
  }
 },
 "nbformat": 4,
 "nbformat_minor": 2
}
